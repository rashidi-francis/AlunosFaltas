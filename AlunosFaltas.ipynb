{
  "nbformat": 4,
  "nbformat_minor": 0,
  "metadata": {
    "colab": {
      "provenance": [],
      "authorship_tag": "ABX9TyNTRuP1jNQNnhn4/7j0wqlp",
      "include_colab_link": true
    },
    "kernelspec": {
      "name": "python3",
      "display_name": "Python 3"
    },
    "language_info": {
      "name": "python"
    }
  },
  "cells": [
    {
      "cell_type": "markdown",
      "metadata": {
        "id": "view-in-github",
        "colab_type": "text"
      },
      "source": [
        "<a href=\"https://colab.research.google.com/github/rashidi-francis/datascpython/blob/main/AlunosFaltas.ipynb\" target=\"_parent\"><img src=\"https://colab.research.google.com/assets/colab-badge.svg\" alt=\"Open In Colab\"/></a>"
      ]
    },
    {
      "cell_type": "code",
      "execution_count": 9,
      "metadata": {
        "colab": {
          "base_uri": "https://localhost:8080/"
        },
        "id": "Of9xA8mUWNKS",
        "outputId": "fa3d3258-829f-4f28-f8d5-2b56de143809"
      },
      "outputs": [
        {
          "name": "stdout",
          "output_type": "stream",
          "text": [
            "Digite a qtd de Horas do Curso: 80\n"
          ]
        }
      ],
      "source": [
        "TotalHoras=float(input('Digite a qtd de Horas do Curso: '))"
      ]
    },
    {
      "cell_type": "code",
      "source": [
        "TotalFaltas=(TotalHoras*25)/100"
      ],
      "metadata": {
        "id": "n_HBnLHbovIV"
      },
      "execution_count": 11,
      "outputs": []
    },
    {
      "cell_type": "code",
      "source": [
        "print(TotalFaltas)"
      ],
      "metadata": {
        "colab": {
          "base_uri": "https://localhost:8080/"
        },
        "id": "vA2HLWgrpD62",
        "outputId": "c3eedd4f-6f77-475e-b133-1b2317a15cde"
      },
      "execution_count": 3,
      "outputs": [
        {
          "output_type": "stream",
          "name": "stdout",
          "text": [
            "80\n"
          ]
        }
      ]
    },
    {
      "cell_type": "code",
      "source": [
        "QtdFaltas=float(input('Digite a qtd de Horas que vc faltou: '))"
      ],
      "metadata": {
        "colab": {
          "base_uri": "https://localhost:8080/"
        },
        "id": "ZieAgu1HpZpO",
        "outputId": "2ce83424-1d93-470d-875e-9991fdb9c0cd"
      },
      "execution_count": 12,
      "outputs": [
        {
          "name": "stdout",
          "output_type": "stream",
          "text": [
            "Digite a qtd de Horas que vc faltou: 20\n"
          ]
        }
      ]
    },
    {
      "cell_type": "code",
      "source": [
        "if QtdFaltas<=TotalFaltas:\n",
        "  print('Você está aprovado, boa sorte! As faltas permitidas são', TotalFaltas)\n",
        "else:\n",
        "  print('Reprovado')"
      ],
      "metadata": {
        "colab": {
          "base_uri": "https://localhost:8080/"
        },
        "id": "m20CdOVRpnw1",
        "outputId": "c8b5a547-8441-42e5-ef5c-58ad4746d079"
      },
      "execution_count": 13,
      "outputs": [
        {
          "output_type": "stream",
          "name": "stdout",
          "text": [
            "Você está aprovado, boa sorte! As faltas permitidas são 20.0\n"
          ]
        }
      ]
    }
  ]
}