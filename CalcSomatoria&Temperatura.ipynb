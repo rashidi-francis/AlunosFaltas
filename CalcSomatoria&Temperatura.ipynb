{
  "nbformat": 4,
  "nbformat_minor": 0,
  "metadata": {
    "colab": {
      "provenance": [],
      "authorship_tag": "ABX9TyNFWykaZpYGZ8s4uOaTajos",
      "include_colab_link": true
    },
    "kernelspec": {
      "name": "python3",
      "display_name": "Python 3"
    },
    "language_info": {
      "name": "python"
    }
  },
  "cells": [
    {
      "cell_type": "markdown",
      "metadata": {
        "id": "view-in-github",
        "colab_type": "text"
      },
      "source": [
        "<a href=\"https://colab.research.google.com/github/rashidi-francis/AlunosFaltas/blob/main/CalcSomatoria%26Temperatura.ipynb\" target=\"_parent\"><img src=\"https://colab.research.google.com/assets/colab-badge.svg\" alt=\"Open In Colab\"/></a>"
      ]
    },
    {
      "cell_type": "markdown",
      "source": [
        "Francis Codes\n",
        "april 24 wednesdey 2024"
      ],
      "metadata": {
        "id": "RvIKC4rMnjTA"
      }
    },
    {
      "cell_type": "code",
      "execution_count": null,
      "metadata": {
        "colab": {
          "base_uri": "https://localhost:8080/"
        },
        "id": "BdqbZ50ElvkV",
        "outputId": "de70cc04-9f92-4a7a-c3f2-64b66701af24"
      },
      "outputs": [
        {
          "output_type": "stream",
          "name": "stdout",
          "text": [
            "Hello World\n"
          ]
        }
      ],
      "source": [
        "#imprimir\n",
        "print('Hello World')"
      ]
    },
    {
      "cell_type": "code",
      "source": [
        "a=1"
      ],
      "metadata": {
        "id": "RkyTRXEWpy3z"
      },
      "execution_count": null,
      "outputs": []
    },
    {
      "cell_type": "code",
      "source": [
        "b=2"
      ],
      "metadata": {
        "id": "px2adYHMp4-Z"
      },
      "execution_count": null,
      "outputs": []
    },
    {
      "cell_type": "code",
      "source": [
        "print (a+b)"
      ],
      "metadata": {
        "colab": {
          "base_uri": "https://localhost:8080/"
        },
        "id": "3QCpaR0Up7TG",
        "outputId": "5bfe233d-5a7e-4334-bc34-3c260332f364"
      },
      "execution_count": null,
      "outputs": [
        {
          "output_type": "stream",
          "name": "stdout",
          "text": [
            "3\n"
          ]
        }
      ]
    },
    {
      "cell_type": "code",
      "source": [
        "c='Rashidi'"
      ],
      "metadata": {
        "id": "1uLV6m42qBFj"
      },
      "execution_count": null,
      "outputs": []
    },
    {
      "cell_type": "code",
      "source": [
        "print('O Resultado é: ', a+b, 'e seu nome é: ', c)"
      ],
      "metadata": {
        "colab": {
          "base_uri": "https://localhost:8080/"
        },
        "id": "0wz1GF3kq7YP",
        "outputId": "896530ee-e92b-4984-a1cb-263f95211554"
      },
      "execution_count": null,
      "outputs": [
        {
          "output_type": "stream",
          "name": "stdout",
          "text": [
            "O Resultado é:  3 e seu nome é:  Rashidi\n"
          ]
        }
      ]
    },
    {
      "cell_type": "code",
      "source": [
        "#Definindo a temperatura\n",
        "temp=25"
      ],
      "metadata": {
        "id": "dfZ0KGRprswm"
      },
      "execution_count": null,
      "outputs": []
    },
    {
      "cell_type": "code",
      "source": [
        "#inserting var user\n",
        "temp=int(input('Digite a Temperatura: '))"
      ],
      "metadata": {
        "colab": {
          "base_uri": "https://localhost:8080/"
        },
        "id": "uFa0KfZnQlGF",
        "outputId": "d344a084-1c49-441d-a331-5eac998352b3"
      },
      "execution_count": null,
      "outputs": [
        {
          "name": "stdout",
          "output_type": "stream",
          "text": [
            "Digite a Temperatura: 37\n"
          ]
        }
      ]
    },
    {
      "cell_type": "code",
      "source": [
        "#Avaliar se a temperatura está ok\n",
        "if temp <10:\n",
        "  print('Está frio! :(')\n",
        "elif temp >=10 and temp <20:\n",
        "  print('Está frio mas dá! :|')\n",
        "elif temp >=20 and temp <27:\n",
        "  print('Agora sim! :)')\n",
        "else:\n",
        "  print('Está muito quente')"
      ],
      "metadata": {
        "colab": {
          "base_uri": "https://localhost:8080/"
        },
        "id": "GKfuKr0KKgqB",
        "outputId": "155350d1-6156-43b6-b35a-7ff846352a2e"
      },
      "execution_count": null,
      "outputs": [
        {
          "output_type": "stream",
          "name": "stdout",
          "text": [
            "Está muito quente\n"
          ]
        }
      ]
    }
  ]
}